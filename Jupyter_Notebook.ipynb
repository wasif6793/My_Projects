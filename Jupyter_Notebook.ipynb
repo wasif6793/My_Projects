{
 "cells": [
  {
   "cell_type": "markdown",
   "metadata": {},
   "source": [
    "<center>\n",
    "    <img src=\"https://cf-courses-data.s3.us.cloud-object-storage.appdomain.cloud/IBMDeveloperSkillsNetwork-DS0105EN-SkillsNetwork/labs/Module2/images/SN_web_lightmode.png\" width=\"300\" alt=\"cognitiveclass.ai logo\">\n",
    "</center>\n"
   ]
  },
  {
   "cell_type": "markdown",
   "metadata": {},
   "source": [
    "# Hands-on Lab: Create your Jupyter Notebook\n"
   ]
  },
  {
   "cell_type": "markdown",
   "metadata": {},
   "source": [
    "#### Add your code below following the instructions given in the course\n"
   ]
  },
  {
   "cell_type": "markdown",
   "metadata": {},
   "source": [
    "# Jupyter_Notebook\n"
   ]
  },
  {
   "cell_type": "markdown",
   "metadata": {},
   "source": [
    "**Introduction**"
   ]
  },
  {
   "cell_type": "markdown",
   "metadata": {},
   "source": [
    "# Data Science Languages\n",
    "1. Python\n",
    "2. R\n",
    "3. SQL\n",
    "4. Scala\n",
    "5. Julia\n",
    "6. Java"
   ]
  },
  {
   "cell_type": "markdown",
   "metadata": {},
   "source": [
    "# Data Science Libraries in Python\n",
    "1. Numpy\n",
    "2. Panda\n",
    "3. SciKit-learn\n",
    "4. Matplotlib"
   ]
  },
  {
   "cell_type": "markdown",
   "metadata": {},
   "source": [
    "# Data Science Tools in Jupyter\n",
    "\n",
    "Jupyter Notebook supports various tools and libraries for data science. Below is a table categorizing some of the most commonly used ones:\n",
    "\n",
    "<table>\n",
    "    <tr>\n",
    "        <th>Category</th>\n",
    "        <th>Tool/Library</th>\n",
    "        <th>Description</th>\n",
    "    </tr>\n",
    "    <tr>\n",
    "        <td><b>Programming Languages</b></td>\n",
    "        <td>Python, R</td>\n",
    "        <td>Common languages for data science</td>\n",
    "    </tr>\n",
    "    <tr>\n",
    "        <td><b>Data Manipulation</b></td>\n",
    "        <td>Pandas, NumPy</td>\n",
    "        <td>Libraries for handling and processing data</td>\n",
    "    </tr>\n",
    "    <tr>\n",
    "        <td><b>Data Visualization</b></td>\n",
    "        <td>Matplotlib, Seaborn, Plotly</td>\n",
    "        <td>Tools for creating charts and visualizations</td>\n",
    "    </tr>\n",
    "    <tr>\n",
    "        <td><b>Machine Learning</b></td>\n",
    "        <td>Scikit-learn, TensorFlow, PyTorch</td>\n",
    "        <td>ML frameworks for model building</td>\n",
    "    </tr>\n",
    "    <tr>\n",
    "        <td><b>Statistical Analysis</b></td>\n",
    "        <td>SciPy, Statsmodels</td>\n",
    "        <td>Libraries for statistical computations</td>\n",
    "    </tr>\n",
    "    <tr>\n",
    "        <td><b>Big Data Processing</b></td>\n",
    "        <td>Dask, PySpark</td>\n",
    "        <td>Tools for handling large-scale data</td>\n",
    "    </tr>\n",
    "    <tr>\n",
    "        <td><b>Deep Learning</b></td>\n",
    "        <td>TensorFlow, Keras, PyTorch</td>\n",
    "        <td>Frameworks for neural networks</td>\n",
    "    </tr>\n",
    "    <tr>\n",
    "        <td><b>Interactive Computing</b></td>\n",
    "        <td>IPython, Jupyter Widgets</td>\n",
    "        <td>Enhancing interactivity in notebooks</td>\n",
    "    </tr>\n",
    "    <tr>\n",
    "        <td><b>Data Storage</b></td>\n",
    "        <td>SQLite, PostgreSQL, MongoDB</td>\n",
    "        <td>Databases used for data persistence</td>\n",
    "    </tr>\n",
    "</table>\n"
   ]
  },
  {
   "cell_type": "markdown",
   "metadata": {},
   "source": [
    "# Arithmetic  Expressions\n",
    "\n",
    "Below is a table showcasing different arithmetic operators in Python:\n",
    "\n",
    "<table border=\"1\">\n",
    "    <tr>\n",
    "        <th>Operator</th>\n",
    "        <th>Symbol</th>\n",
    "        <th>Example</th>\n",
    "        <th>Result</th>\n",
    "    </tr>\n",
    "    <tr>\n",
    "        <td><b>Addition</b></td>\n",
    "        <td>+</td>\n",
    "        <td>5 + 3</td>\n",
    "        <td>8</td>\n",
    "    </tr>\n",
    "    <tr>\n",
    "        <td><b>Subtraction</b></td>\n",
    "        <td>-</td>\n",
    "        <td>10 - 4</td>\n",
    "        <td>6</td>\n",
    "    </tr>\n",
    "    <tr>\n",
    "        <td><b>Multiplication</b></td>\n",
    "        <td>*</td>\n",
    "        <td>6 * 2</td>\n",
    "        <td>12</td>\n",
    "    </tr>\n",
    "    <tr>\n",
    "        <td><b>Division</b></td>\n",
    "        <td>/</td>\n",
    "        <td>15 / 3</td>\n",
    "        <td>5.0</td>\n",
    "    </tr>\n",
    "    <tr>\n",
    "        <td><b>Floor Division</b></td>\n",
    "        <td>//</td>\n",
    "        <td>17 // 3</td>\n",
    "        <td>5</td>\n",
    "    </tr>\n",
    "    <tr>\n",
    "        <td><b>Modulus</b></td>\n",
    "        <td>%</td>\n",
    "        <td>17 % 3</td>\n",
    "        <td>2</td>\n",
    "    </tr>\n",
    "    <tr>\n",
    "        <td><b>Exponentiation</b></td>\n",
    "        <td>**</td>\n",
    "        <td>2 ** 3</td>\n",
    "        <td>8</td>\n",
    "    </tr>\n",
    "</table>\n",
    "\n",
    "## Example Usage in Python\n",
    "\n",
    "You can try executing these expressions in a Jupyter Notebook code cell:\n",
    "\n",
    "```python\n",
    "# Basic arithmetic operations\n",
    "a = 10\n",
    "b = 3\n",
    "\n",
    "addition = a + b\n",
    "subtraction = a - b\n",
    "multiplication = a * b\n",
    "division = a / b\n",
    "floor_division = a // b\n",
    "modulus = a % b\n",
    "exponentiation = a ** b\n",
    "\n",
    "# Display results\n",
    "addition, subtraction, multiplication, division, floor_division, modulus, exponentiation\n"
   ]
  },
  {
   "cell_type": "code",
   "execution_count": null,
   "metadata": {},
   "outputs": [],
   "source": [
    "a = 2\n",
    "b = 3\n",
    "c = a * b\n",
    "d = a + b"
   ]
  },
  {
   "cell_type": "code",
   "execution_count": null,
   "metadata": {},
   "outputs": [],
   "source": [
    "# Converting Minutes to hours\n",
    "\n",
    "min = 60\n",
    "hr = min /60\n"
   ]
  },
  {
   "cell_type": "markdown",
   "metadata": {},
   "source": [
    "# Objectives"
   ]
  },
  {
   "cell_type": "markdown",
   "metadata": {},
   "source": [
    "# Written By M Wasif"
   ]
  },
  {
   "cell_type": "markdown",
   "metadata": {},
   "source": [
    "Copyright ©2024 IBM Corporation. All rights reserved.\n"
   ]
  }
 ],
 "metadata": {
  "kernelspec": {
   "display_name": "Python [conda env:base] *",
   "language": "python",
   "name": "conda-base-py"
  },
  "language_info": {
   "codemirror_mode": {
    "name": "ipython",
    "version": 3
   },
   "file_extension": ".py",
   "mimetype": "text/x-python",
   "name": "python",
   "nbconvert_exporter": "python",
   "pygments_lexer": "ipython3",
   "version": "3.12.7"
  },
  "prev_pub_hash": "9e1985db9844176462bd1d5863048c9f3d17404bbc6a648be9084b0c42b29347"
 },
 "nbformat": 4,
 "nbformat_minor": 4
}
